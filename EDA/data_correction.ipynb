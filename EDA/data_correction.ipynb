{
 "cells": [
  {
   "cell_type": "code",
   "execution_count": 9,
   "id": "e47f8412-5a69-483f-b424-616b4e947c8a",
   "metadata": {},
   "outputs": [],
   "source": [
    "import json\n",
    "\n",
    "valid_plastic_bag = [386, 385, 937, 940, 938, 939, 936, 941, 1002, 3089, 3090, 1183, 1185, 1186, 1184, 1187, 1188, 1317, 1300, 1298, 1316, 1732, 3733, 3735, 3736, 3731, 3734, 3729, 3732, 4840, 4841, 4844]\n",
    "valid_paper_pack = [3999, 535]\n",
    "\n",
    "train_plastic_bag = [183, 378, 380, 412, 413, 753, 755, 752, 754, 757, 751, 756, 1689, 1690, 1697, 1699, 1696, 1698, 1695, 1693, 1694, 1753, 1752, 1751,\n",
    "                      1777, 1776, 1839, 1840, 2205, 2204, 2206, 2209, 2201, 2208, 2250, 2984, 2977, 2980, 2982, 2979, 2978, 2981, 3711, 4596, 4597, 4595,\n",
    "                      4594, 4657, 4666, 4660, 4653, 4665, 4662, 4664, 4656, 4659, 4654, 4661, 4658, 4667, 4663, 4655, 5041, 5036, 5043, 5044, 5037, 5038,\n",
    "                      5042, 6884, 6885, 7301, 7300, 7299, 7302, 7303, 7298, 9488, 9480, 9473, 9482, 9486, 9485, 9487, 9479, 9484, 9478, 9477, 9481, 9472,\n",
    "                      9483, 9474, 9965, 9964, 9966, 9971, 9972, 9950, 9952, 9958, 9949, 9959, 9951, 10040, 10038, 10028, 10047, 10027, 10039, 10042, 10032,\n",
    "                      10034, 10046, 10024, 10045, 10018, 10017, 10020, 10044, 10021, 10022, 10023, 10031, 10036, 10035, 10037, 10041, 10054, 10033, 10026, 10029,\n",
    "                      10030, 10025, 10043, 10019, 10334, 10999, 10996, 10997, 11005, 10995, 11083, 11075, 11084, 11072, 11079, 11080, 11070, 11076, 11082, 11074, 11085,\n",
    "                      11071, 11078, 11077, 11073, 11069, 11081, 12127, 12646, 12644, 12643, 12645, 12641, 12642, 12764, 14036, 14063, 14062, 14024, 14017, 14067, 14014,\n",
    "                      14023, 14027, 14012, 14015, 14013, 14016, 14022, 14034, 14035, 14065, 14032, 14031, 14033, 14029, 14021, 14030, 14064, 14020, 14018, 14066, 14025,\n",
    "                      14061, 14026, 14019, 15414, 15415, 17064, 17048, 17063, 17070, 17065,\n",
    "                      17052, 17066, 17038, 17059, 17058, 17051, 17053, 17067, 17068, 17043, 17057, 17060, 17069, 17055, 17912, 17911, 17910, 18367, 18369, 18366,\n",
    "                      18370, 18543, 18541, 18544, 18546, 18547, 18540, 18874, 19558, 20390, 20392, 20389, 20394, 20393, 20622, 20619, 20624, 20620, 20623, 20617, 20621, 20888]\n",
    "train_paper = [11035, 2866, 2270, 2512, 2513, 8762, 9995, 18008] \n",
    "train_plastic = [1074]\n",
    "\n",
    "train_delete_imgs = [134, 1394, 1455, 1472, 1483, 1938, 2102, 2499] # 134는 보조배터리"
   ]
  },
  {
   "cell_type": "markdown",
   "id": "c88da49a-b564-46b6-b214-3c2827ced8f0",
   "metadata": {},
   "source": [
    "## valid"
   ]
  },
  {
   "cell_type": "code",
   "execution_count": 10,
   "id": "70195297-d0dc-45f3-87ff-66feb336ee4d",
   "metadata": {},
   "outputs": [],
   "source": [
    "json_file = open('/opt/ml/segmentation/input/data/val.json')\n",
    "new_valid = json.load(json_file)\n",
    "json_file.close()"
   ]
  },
  {
   "cell_type": "code",
   "execution_count": 11,
   "id": "185d7acb-b999-4b9c-b72d-376b24100d31",
   "metadata": {},
   "outputs": [],
   "source": [
    "for anno in new_valid['annotations']:\n",
    "    if anno['id'] in valid_paper_pack:\n",
    "        anno['category_id'] = 3\n",
    "    if anno['id'] in valid_plastic_bag:\n",
    "        anno['category_id'] = 8"
   ]
  },
  {
   "cell_type": "code",
   "execution_count": 12,
   "id": "468ec68d-8b87-4939-b5af-09a2d4274be6",
   "metadata": {},
   "outputs": [],
   "source": [
    "with open(\"/opt/ml/segmentation/input/data/new_val.json\",\"w\") as f :\n",
    "    new_valid = json.dumps(new_valid, indent=4)\n",
    "    f.write(new_valid)"
   ]
  },
  {
   "cell_type": "markdown",
   "id": "875a0154-b995-4c41-a697-233f6f858ef9",
   "metadata": {},
   "source": [
    "## train"
   ]
  },
  {
   "cell_type": "code",
   "execution_count": 13,
   "id": "a678efb7-5832-45c4-8a39-8dc9cd557d55",
   "metadata": {},
   "outputs": [],
   "source": [
    "json_file = open('/opt/ml/segmentation/input/data/train.json')\n",
    "train = json.load(json_file)\n",
    "json_file.close()\n",
    "\n",
    "new_train = dict()"
   ]
  },
  {
   "cell_type": "code",
   "execution_count": 14,
   "id": "06e852b3-874c-4280-9c3e-0dadf513ec3f",
   "metadata": {},
   "outputs": [],
   "source": [
    "new_train['info'] = train['info']\n",
    "new_train['licenses'] = train['licenses']\n",
    "new_train['categories'] = train['categories']\n",
    "new_train['images'] = []\n",
    "new_train['annotations'] = []"
   ]
  },
  {
   "cell_type": "code",
   "execution_count": 15,
   "id": "a803b641-ea48-479d-b41e-90b2282333aa",
   "metadata": {},
   "outputs": [],
   "source": [
    "for image in train['images']:\n",
    "    if image['id'] in train_delete_imgs:\n",
    "        continue\n",
    "    new_train['images'].append(image)\n",
    "    \n",
    "for anno in train['annotations']:\n",
    "    if anno['image_id'] in train_delete_imgs:\n",
    "        continue\n",
    "    if anno['id'] in train_paper:\n",
    "        anno['category_id'] = 2\n",
    "    elif anno['id'] in train_plastic:\n",
    "        anno['category_id'] = 6\n",
    "    elif anno['id'] in train_plastic_bag:\n",
    "        anno['category_id'] = 8\n",
    "    new_train['annotations'].append(anno)"
   ]
  },
  {
   "cell_type": "code",
   "execution_count": 16,
   "id": "1ec8a348-69a9-4ede-b189-f043dcbf593f",
   "metadata": {},
   "outputs": [],
   "source": [
    "with open(\"/opt/ml/segmentation/input/data/new_train.json\",\"w\") as f :\n",
    "    new_train = json.dumps(new_train, indent=4)\n",
    "    f.write(new_train)"
   ]
  },
  {
   "cell_type": "code",
   "execution_count": null,
   "id": "c79b2710-1297-42de-95b9-e1f408a76d9d",
   "metadata": {},
   "outputs": [],
   "source": []
  }
 ],
 "metadata": {
  "kernelspec": {
   "display_name": "segmentation",
   "language": "python",
   "name": "segmentation"
  },
  "language_info": {
   "codemirror_mode": {
    "name": "ipython",
    "version": 3
   },
   "file_extension": ".py",
   "mimetype": "text/x-python",
   "name": "python",
   "nbconvert_exporter": "python",
   "pygments_lexer": "ipython3",
   "version": "3.7.11"
  }
 },
 "nbformat": 4,
 "nbformat_minor": 5
}
